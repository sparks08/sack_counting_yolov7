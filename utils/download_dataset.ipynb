{
 "cells": [
  {
   "cell_type": "code",
   "execution_count": 1,
   "metadata": {},
   "outputs": [],
   "source": [
    "import fiftyone\n",
    "import shutil\n",
    "from os import makedirs\n",
    "import fiftyone.utils.splits as fous\n",
    "dataset_path = \"/home/ubuntu/Parth/object_counting/dataset/\""
   ]
  },
  {
   "cell_type": "code",
   "execution_count": 2,
   "metadata": {},
   "outputs": [
    {
     "name": "stdout",
     "output_type": "stream",
     "text": [
      "['dataset_hairnet', 'dataset_handgun', 'dataset_handgun_rifles', 'dataset_licence_plate', 'dataset_mask', 'dataset_person', 'dataset_sack', 'dataset_safey_hardhat', 'dataset_safey_hardhat_and_vests']\n"
     ]
    }
   ],
   "source": [
    "print(fiftyone.list_datasets())\n",
    "\n",
    "# for d in fiftyone.list_datasets():\n",
    "#     fiftyone.load_dataset(d).delete()"
   ]
  },
  {
   "cell_type": "code",
   "execution_count": null,
   "metadata": {},
   "outputs": [],
   "source": [
    "dataset_licence_plate = fiftyone.zoo.load_zoo_dataset(\n",
    "    \"coco-2017\",\n",
    "    classes=['person'],\n",
    "    label_types=[\"detections\"],\n",
    "    dataset_name='dataset_person',\n",
    "    dataset_dir='/home/ubuntu/Parth/object_counting/dataset/raw/person',\n",
    "    cleanup=True,\n",
    ")\n",
    "\n",
    "for t in ['train', 'test', 'validation']:\n",
    "    dataset_licence_plate.match_tags(t).export(\n",
    "        export_dir=\"/home/ubuntu/Parth/object_counting/dataset/YOLOv5/person/\",\n",
    "        dataset_type=fiftyone.types.YOLOv5Dataset,\n",
    "        classes=['person'],\n",
    "        split=t\n",
    "    )"
   ]
  },
  {
   "cell_type": "code",
   "execution_count": null,
   "metadata": {},
   "outputs": [],
   "source": [
    "dataset_licence_plate = fiftyone.zoo.load_zoo_dataset(\n",
    "    \"open-images-v6\",\n",
    "    classes=['Vehicle registration plate'],\n",
    "    label_types=[\"detections\"],\n",
    "    dataset_name='dataset_licence_plate',\n",
    "    dataset_dir='/home/ubuntu/Parth/object_counting/dataset/raw/licence_plate',\n",
    "    cleanup=True,\n",
    ")\n",
    "\n",
    "for t in ['train', 'test', 'validation']:\n",
    "    dataset_licence_plate.match_tags(t).export(\n",
    "        export_dir=\"/home/ubuntu/Parth/object_counting/dataset/YOLOv5/license_plate/\",\n",
    "        dataset_type=fiftyone.types.YOLOv5Dataset,\n",
    "        classes=['Vehicle registration plate'],\n",
    "        split=t\n",
    "    )"
   ]
  },
  {
   "cell_type": "code",
   "execution_count": 5,
   "metadata": {},
   "outputs": [
    {
     "name": "stdout",
     "output_type": "stream",
     "text": [
      " 100% |███████████████| 2971/2971 [3.9s elapsed, 0s remaining, 798.2 samples/s]      \n",
      " 100% |███████████████| 2080/2080 [2.1s elapsed, 0s remaining, 993.0 samples/s]      \n",
      "Directory '/home/ubuntu/Parth/object_counting/dataset/YOLOv5/handgun_and_rifle/' already exists; export will be merged with existing files\n",
      " 100% |█████████████████| 594/594 [580.6ms elapsed, 0s remaining, 1.0K samples/s]       \n",
      "Directory '/home/ubuntu/Parth/object_counting/dataset/YOLOv5/handgun_and_rifle/' already exists; export will be merged with existing files\n",
      " 100% |█████████████████| 297/297 [293.6ms elapsed, 0s remaining, 1.0K samples/s]       \n"
     ]
    }
   ],
   "source": [
    "fiftyone.load_dataset('dataset_handgun').delete()\n",
    "dataset_handgun = fiftyone.Dataset.from_dir(\n",
    "    dataset_type=fiftyone.types.COCODetectionDataset,\n",
    "    data_path=\"/home/ubuntu/Parth/object_counting/dataset/raw/handgun/\",\n",
    "    labels_path=\"/home/ubuntu/Parth/object_counting/dataset/raw/handgun/_annotations.coco.json\",\n",
    "    name=\"dataset_handgun\"\n",
    ")\n",
    "\n",
    "fous.random_split(dataset_handgun, {\"train\": 0.7, \"test\": 0.2, \"validation\": 0.1}, seed=42)\n",
    "for t in ['train', 'test', 'validation']:\n",
    "    dataset_handgun.match_tags(t).export(\n",
    "        export_dir=\"/home/ubuntu/Parth/object_counting/dataset/YOLOv5/handgun_and_rifle/\",\n",
    "        dataset_type=fiftyone.types.YOLOv5Dataset,\n",
    "        classes=['pistol'],\n",
    "        split=t\n",
    "    )"
   ]
  },
  {
   "cell_type": "code",
   "execution_count": 6,
   "metadata": {},
   "outputs": [
    {
     "name": "stdout",
     "output_type": "stream",
     "text": [
      " 100% |█████████████████| 588/588 [1.1s elapsed, 0s remaining, 534.1 samples/s]         \n",
      "Directory '/home/ubuntu/Parth/object_counting/dataset/YOLOv5/handgun_and_rifle/' already exists; export will be merged with existing files\n",
      " 100% |█████████████████| 412/412 [461.5ms elapsed, 0s remaining, 892.7 samples/s]      \n",
      "Directory '/home/ubuntu/Parth/object_counting/dataset/YOLOv5/handgun_and_rifle/' already exists; export will be merged with existing files\n",
      " 100% |█████████████████| 117/117 [135.6ms elapsed, 0s remaining, 863.0 samples/s]     \n",
      "Directory '/home/ubuntu/Parth/object_counting/dataset/YOLOv5/handgun_and_rifle/' already exists; export will be merged with existing files\n",
      " 100% |███████████████████| 59/59 [71.4ms elapsed, 0s remaining, 825.8 samples/s] \n"
     ]
    }
   ],
   "source": [
    "fiftyone.load_dataset('dataset_handgun_rifles').delete()\n",
    "dataset_handgun_rifles = fiftyone.Dataset.from_dir(\n",
    "    dataset_type=fiftyone.types.VOCDetectionDataset,\n",
    "    data_path=\"/home/ubuntu/Parth/object_counting/dataset/raw/handgun_and_rifle/images\",\n",
    "    labels_path=\"/home/ubuntu/Parth/object_counting/dataset/raw/handgun_and_rifle/annotations/\",\n",
    "    name=\"dataset_handgun_rifles\"\n",
    ")\n",
    "\n",
    "fous.random_split(dataset_handgun_rifles, {\"train\": 0.7, \"test\": 0.2, \"validation\": 0.1}, seed=42)\n",
    "for t in ['train', 'test', 'validation']:\n",
    "    dataset_handgun_rifles.match_tags(t).export(\n",
    "        export_dir=\"/home/ubuntu/Parth/object_counting/dataset/YOLOv5/handgun_and_rifle/\",\n",
    "        dataset_type=fiftyone.types.YOLOv5Dataset,\n",
    "        classes=['handgun', 'rifle'],\n",
    "        split=t\n",
    "    )"
   ]
  },
  {
   "cell_type": "code",
   "execution_count": null,
   "metadata": {},
   "outputs": [],
   "source": [
    "dataset_safey_hardhat_and_vests = fiftyone.Dataset.from_dir(\n",
    "    dataset_type=fiftyone.types.YOLOv5Dataset,\n",
    "    dataset_dir=\"/home/ubuntu/Parth/object_counting/dataset/raw/safety_hardhat_vest/\",\n",
    "    name=\"dataset_safey_hardhat_and_vests\"\n",
    ")\n",
    "\n",
    "fous.random_split(dataset_safey_hardhat_and_vests, {\"train\": 0.7, \"test\": 0.2, \"validation\": 0.1}, seed=42)\n",
    "for t in ['train', 'test', 'validation']:\n",
    "    dataset_safey_hardhat_and_vests.match_tags(t).export(\n",
    "        export_dir=\"/home/ubuntu/Parth/object_counting/dataset/YOLOv5/safety_hardhat_vest/\",\n",
    "        dataset_type=fiftyone.types.YOLOv5Dataset,\n",
    "        classes=['hardhat', 'vest'],\n",
    "        split=t\n",
    "    )"
   ]
  },
  {
   "cell_type": "code",
   "execution_count": 19,
   "metadata": {},
   "outputs": [
    {
     "name": "stdout",
     "output_type": "stream",
     "text": [
      " 100% |███████████████| 5000/5000 [20.2s elapsed, 0s remaining, 229.7 samples/s]      \n",
      "Directory '/home/ubuntu/Parth/object_counting/dataset/YOLOv5/safety_hardhat_vest/' already exists; export will be merged with existing files\n",
      "   2% |---------------|   79/3500 [223.6ms elapsed, 9.7s remaining, 353.3 samples/s]  "
     ]
    },
    {
     "name": "stderr",
     "output_type": "stream",
     "text": [
      "/home/ubuntu/anaconda3/envs/object-counting/lib/python3.10/site-packages/fiftyone/utils/yolo.py:958: UserWarning: Ignoring detection with label 'head' not in provided classes\n",
      "  warnings.warn(msg)\n",
      "/home/ubuntu/anaconda3/envs/object-counting/lib/python3.10/site-packages/fiftyone/utils/yolo.py:958: UserWarning: Ignoring detection with label 'person' not in provided classes\n",
      "  warnings.warn(msg)\n"
     ]
    },
    {
     "name": "stdout",
     "output_type": "stream",
     "text": [
      " 100% |███████████████| 3500/3500 [9.9s elapsed, 0s remaining, 385.5 samples/s]       \n",
      "Directory '/home/ubuntu/Parth/object_counting/dataset/YOLOv5/safety_hardhat_vest/' already exists; export will be merged with existing files\n",
      " 100% |███████████████| 1000/1000 [2.7s elapsed, 0s remaining, 365.8 samples/s]      \n",
      "Directory '/home/ubuntu/Parth/object_counting/dataset/YOLOv5/safety_hardhat_vest/' already exists; export will be merged with existing files\n",
      " 100% |█████████████████| 500/500 [1.4s elapsed, 0s remaining, 364.8 samples/s]         \n"
     ]
    }
   ],
   "source": [
    "\n",
    "dataset_safey_hardhat = fiftyone.Dataset.from_dir(\n",
    "    dataset_type=fiftyone.types.VOCDetectionDataset,\n",
    "    data_path=\"/home/ubuntu/Parth/object_counting/dataset/raw/safety_hardhat/images\",\n",
    "    labels_path=\"/home/ubuntu/Parth/object_counting/dataset/raw/safety_hardhat/annotations/\",\n",
    "    name=\"dataset_safey_hardhat\"\n",
    ")\n",
    "\n",
    "\n",
    "fous.random_split(dataset_safey_hardhat, {\"train\": 0.7, \"test\": 0.2, \"validation\": 0.1}, seed=42)\n",
    "for t in ['train', 'test', 'validation']:\n",
    "    dataset_safey_hardhat.match_tags(t).export(\n",
    "        export_dir=\"/home/ubuntu/Parth/object_counting/dataset/YOLOv5/safety_hardhat_vest/\",\n",
    "        dataset_type=fiftyone.types.YOLOv5Dataset,\n",
    "        classes=['helmet'],\n",
    "        split=t\n",
    "    )"
   ]
  },
  {
   "cell_type": "code",
   "execution_count": 20,
   "metadata": {},
   "outputs": [
    {
     "name": "stdout",
     "output_type": "stream",
     "text": [
      " 100% |█████████████████| 853/853 [3.7s elapsed, 0s remaining, 208.1 samples/s]      \n",
      " 100% |█████████████████| 597/597 [1.8s elapsed, 0s remaining, 319.0 samples/s]         \n",
      "Directory '/home/ubuntu/Parth/object_counting/dataset/YOLOv5/mask/' already exists; export will be merged with existing files\n",
      " 100% |█████████████████| 171/171 [493.1ms elapsed, 0s remaining, 346.8 samples/s]      \n",
      "Directory '/home/ubuntu/Parth/object_counting/dataset/YOLOv5/mask/' already exists; export will be merged with existing files\n",
      " 100% |███████████████████| 85/85 [216.2ms elapsed, 0s remaining, 393.1 samples/s]      \n"
     ]
    }
   ],
   "source": [
    "\n",
    "dataset_mask = fiftyone.Dataset.from_dir(\n",
    "    dataset_type=fiftyone.types.VOCDetectionDataset,\n",
    "    data_path=\"/home/ubuntu/Parth/object_counting/dataset/raw/mask/images/\",\n",
    "    labels_path=\"/home/ubuntu/Parth/object_counting/dataset/raw/mask/annotations/\",\n",
    "    name=\"dataset_mask\"\n",
    ")\n",
    "\n",
    "fous.random_split(dataset_mask, {\"train\": 0.7, \"test\": 0.2, \"validation\": 0.1}, seed=42)\n",
    "for t in ['train', 'test', 'validation']:\n",
    "    dataset_mask.match_tags(t).export(\n",
    "        export_dir=\"/home/ubuntu/Parth/object_counting/dataset/YOLOv5/mask/\",\n",
    "        dataset_type=fiftyone.types.YOLOv5Dataset,\n",
    "        classes=['with_mask', 'without_mask', 'mask_weared_incorrect'],\n",
    "        split=t\n",
    "    )"
   ]
  },
  {
   "cell_type": "code",
   "execution_count": 22,
   "metadata": {},
   "outputs": [
    {
     "name": "stdout",
     "output_type": "stream",
     "text": [
      " 100% |███████████████████| 10/10 [33.9ms elapsed, 0s remaining, 294.8 samples/s]     \n"
     ]
    }
   ],
   "source": [
    "dataset_hairnet = fiftyone.Dataset.from_dir(\n",
    "    dataset_type=fiftyone.types.YOLOv5Dataset,\n",
    "    dataset_dir=\"/home/ubuntu/Parth/object_counting/dataset/YOLOv5/hairnet/\",\n",
    "    name=\"dataset_hairnet\"\n",
    ")"
   ]
  },
  {
   "cell_type": "code",
   "execution_count": 23,
   "metadata": {},
   "outputs": [
    {
     "name": "stdout",
     "output_type": "stream",
     "text": [
      " 100% |███████████████████| 22/22 [40.7ms elapsed, 0s remaining, 540.9 samples/s]     \n"
     ]
    }
   ],
   "source": [
    "dataset_sack = fiftyone.Dataset.from_dir(\n",
    "    dataset_type=fiftyone.types.YOLOv5Dataset,\n",
    "    dataset_dir=\"/home/ubuntu/Parth/object_counting/dataset/YOLOv5/sack/\",\n",
    "    name=\"dataset_sack\"\n",
    ")"
   ]
  }
 ],
 "metadata": {
  "kernelspec": {
   "display_name": "Python 3.10.4 ('object-counting')",
   "language": "python",
   "name": "python3"
  },
  "language_info": {
   "codemirror_mode": {
    "name": "ipython",
    "version": 3
   },
   "file_extension": ".py",
   "mimetype": "text/x-python",
   "name": "python",
   "nbconvert_exporter": "python",
   "pygments_lexer": "ipython3",
   "version": "3.10.4"
  },
  "orig_nbformat": 4,
  "vscode": {
   "interpreter": {
    "hash": "fb86b3e7a09a331cba8218dc510a9e7f70751826c61d254dc2f588cd92a37791"
   }
  }
 },
 "nbformat": 4,
 "nbformat_minor": 2
}
